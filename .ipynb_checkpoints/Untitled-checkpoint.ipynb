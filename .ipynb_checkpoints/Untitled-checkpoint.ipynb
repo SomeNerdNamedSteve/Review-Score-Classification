{
 "cells": [
  {
   "cell_type": "code",
   "execution_count": 43,
   "metadata": {
    "collapsed": true
   },
   "outputs": [],
   "source": [
    "import pandas as pd\n",
    "from sklearn import tree, svm, neural_network, neighbors\n",
    "from textblob import TextBlob\n",
    "import warnings\n",
    "warnings.filterwarnings('ignore')"
   ]
  },
  {
   "cell_type": "code",
   "execution_count": 55,
   "metadata": {},
   "outputs": [
    {
     "data": {
      "text/html": [
       "<div>\n",
       "<style>\n",
       "    .dataframe thead tr:only-child th {\n",
       "        text-align: right;\n",
       "    }\n",
       "\n",
       "    .dataframe thead th {\n",
       "        text-align: left;\n",
       "    }\n",
       "\n",
       "    .dataframe tbody tr th {\n",
       "        vertical-align: top;\n",
       "    }\n",
       "</style>\n",
       "<table border=\"1\" class=\"dataframe\">\n",
       "  <thead>\n",
       "    <tr style=\"text-align: right;\">\n",
       "      <th></th>\n",
       "      <th>reviews.doRecommend</th>\n",
       "      <th>reviews.numHelpful</th>\n",
       "      <th>reviews.rating</th>\n",
       "      <th>reviews.text</th>\n",
       "      <th>reviews.title</th>\n",
       "    </tr>\n",
       "  </thead>\n",
       "  <tbody>\n",
       "    <tr>\n",
       "      <th>0</th>\n",
       "      <td>True</td>\n",
       "      <td>0</td>\n",
       "      <td>5</td>\n",
       "      <td>Look at this product as a portable speaker fir...</td>\n",
       "      <td>Great for what it does</td>\n",
       "    </tr>\n",
       "    <tr>\n",
       "      <th>1</th>\n",
       "      <td>True</td>\n",
       "      <td>3</td>\n",
       "      <td>5</td>\n",
       "      <td>This Amazon tap is not only a great Bluetooth ...</td>\n",
       "      <td>Awesome, smart little portable speaker</td>\n",
       "    </tr>\n",
       "    <tr>\n",
       "      <th>2</th>\n",
       "      <td>True</td>\n",
       "      <td>0</td>\n",
       "      <td>5</td>\n",
       "      <td>Bought this on Deal of the Day which surprised...</td>\n",
       "      <td>Amazing technology!</td>\n",
       "    </tr>\n",
       "    <tr>\n",
       "      <th>3</th>\n",
       "      <td>True</td>\n",
       "      <td>0</td>\n",
       "      <td>5</td>\n",
       "      <td>Amazing Sound! All around great product! Nothi...</td>\n",
       "      <td>A++++++++</td>\n",
       "    </tr>\n",
       "    <tr>\n",
       "      <th>4</th>\n",
       "      <td>True</td>\n",
       "      <td>0</td>\n",
       "      <td>5</td>\n",
       "      <td>I have owned the Echo for about a year now and...</td>\n",
       "      <td>Nice Amazon Product</td>\n",
       "    </tr>\n",
       "  </tbody>\n",
       "</table>\n",
       "</div>"
      ],
      "text/plain": [
       "   reviews.doRecommend  reviews.numHelpful  reviews.rating  \\\n",
       "0                 True                   0               5   \n",
       "1                 True                   3               5   \n",
       "2                 True                   0               5   \n",
       "3                 True                   0               5   \n",
       "4                 True                   0               5   \n",
       "\n",
       "                                        reviews.text  \\\n",
       "0  Look at this product as a portable speaker fir...   \n",
       "1  This Amazon tap is not only a great Bluetooth ...   \n",
       "2  Bought this on Deal of the Day which surprised...   \n",
       "3  Amazing Sound! All around great product! Nothi...   \n",
       "4  I have owned the Echo for about a year now and...   \n",
       "\n",
       "                            reviews.title  \n",
       "0                  Great for what it does  \n",
       "1  Awesome, smart little portable speaker  \n",
       "2                     Amazing technology!  \n",
       "3                               A++++++++  \n",
       "4                     Nice Amazon Product  "
      ]
     },
     "execution_count": 55,
     "metadata": {},
     "output_type": "execute_result"
    }
   ],
   "source": [
    "train_in = []\n",
    "train_out = []\n",
    "\n",
    "tree_clf = tree.DecisionTreeClassifier()\n",
    "mlp_clf = neural_network.MLPClassifier()\n",
    "line_clf = svm.LinearSVC()\n",
    "knn_clf = neighbors.KNeighborsClassifier()\n",
    "\n",
    "clfs = [tree_clf, mlp_clf, line_clf, knn_clf]\n",
    "\n",
    "data = pd.read_csv('data.csv')\n",
    "\n",
    "data.head()"
   ]
  },
  {
   "cell_type": "code",
   "execution_count": 56,
   "metadata": {},
   "outputs": [],
   "source": [
    "train = data[0:300]"
   ]
  },
  {
   "cell_type": "code",
   "execution_count": 57,
   "metadata": {
    "scrolled": true
   },
   "outputs": [],
   "source": [
    "for i in range(0,300):\n",
    "    review = data['reviews.text'][i]\n",
    "    rating = data['reviews.rating'][i]\n",
    "    do_recommend = data['reviews.doRecommend'][i]\n",
    "    analysis = TextBlob(review)\n",
    "    polarity = analysis.sentiment.polarity\n",
    "    train_in.append([polarity, rating])\n",
    "    train_out.append([do_recommend])"
   ]
  },
  {
   "cell_type": "code",
   "execution_count": 58,
   "metadata": {
    "collapsed": true
   },
   "outputs": [],
   "source": [
    "test_review, test_rating = data['reviews.text'][300], data['reviews.rating'][300]\n",
    "test_recommend = data['reviews.doRecommend'][300]\n",
    "test_analysis = TextBlob(test_review)\n",
    "test_polarity = test_analysis.sentiment.polarity\n",
    "test_data = [[test_polarity, test_rating]]"
   ]
  },
  {
   "cell_type": "code",
   "execution_count": 59,
   "metadata": {},
   "outputs": [
    {
     "name": "stdout",
     "output_type": "stream",
     "text": [
      "<class 'sklearn.tree.tree.DecisionTreeClassifier'>: [ True]\n",
      "<class 'sklearn.neural_network.multilayer_perceptron.MLPClassifier'>: [ True]\n",
      "<class 'sklearn.svm.classes.LinearSVC'>: [ True]\n",
      "<class 'sklearn.neighbors.classification.KNeighborsClassifier'>: [ True]\n"
     ]
    }
   ],
   "source": [
    "for clf in clfs:\n",
    "    clf = clf.fit(train_in, train_out)\n",
    "    pred = clf.predict(test_data)\n",
    "    print(str(type(clf)) + \": \" + str(pred))"
   ]
  }
 ],
 "metadata": {
  "kernelspec": {
   "display_name": "Python 3",
   "language": "python",
   "name": "python3"
  },
  "language_info": {
   "codemirror_mode": {
    "name": "ipython",
    "version": 3
   },
   "file_extension": ".py",
   "mimetype": "text/x-python",
   "name": "python",
   "nbconvert_exporter": "python",
   "pygments_lexer": "ipython3",
   "version": "3.5.2"
  }
 },
 "nbformat": 4,
 "nbformat_minor": 2
}
